{
 "cells": [
  {
   "cell_type": "code",
   "execution_count": 39,
   "metadata": {},
   "outputs": [],
   "source": [
    "import numpy as np \n",
    "import matplotlib.pyplot as plt \n",
    "import time"
   ]
  },
  {
   "cell_type": "code",
   "execution_count": 45,
   "metadata": {},
   "outputs": [],
   "source": [
    "def posdef():\n",
    "    A = np.random.rand(100,100)\n",
    "    return np.einsum('ab,cb->ac',A,A)\n"
   ]
  },
  {
   "cell_type": "code",
   "execution_count": 3,
   "metadata": {},
   "outputs": [],
   "source": [
    "def KL_1(A,B):\n",
    "    m = A.shape[1]\n",
    "    inv_A = np.linalg.solve(A,np.identity(m))\n",
    "    _, logdet = np.linalg.slogdet(\n",
    "        np.einsum('ab,bc->ac', inv_A, B))\n",
    "    kl = .5 * (np.einsum('ab,ba', inv_A, B) - logdet - m)\n",
    "    return (kl)"
   ]
  },
  {
   "cell_type": "code",
   "execution_count": 33,
   "metadata": {},
   "outputs": [],
   "source": [
    "def KL_2(A,B):\n",
    "    m = A.shape[1]\n",
    "    Z  = np.linalg.solve(np.linalg.cholesky(A) , np.linalg.cholesky(B))\n",
    "    k  = np.dot(Z.flatten(), Z.flatten().T) - 2.*np.sum(np.log(np.diag(Z))) -m\n",
    "    return 0.5*k"
   ]
  },
  {
   "cell_type": "code",
   "execution_count": 34,
   "metadata": {},
   "outputs": [],
   "source": [
    "def KL_3(A,B,exact=True):\n",
    "    R1 = np.mat(A)\n",
    "    R2 = np.mat(B)\n",
    "\n",
    "    if (np.isnan(R2.sum())):\n",
    "        return nan\n",
    "\n",
    "    R1 = 0.5 * (R1 + R1.T)\n",
    "    R2 = 0.5 * (R2 + R2.T)\n",
    "    fudge_factor = 1000\n",
    "    u,v = np.linalg.eigh(R2) # eig for sym matrix. Now u is real.\n",
    "    eps = 2e-16#numpy.lib.getlimits.finfo(R1.dtype).eps\n",
    "    pos = np.argwhere(u > fudge_factor*eps*sum(u) )\n",
    "\n",
    "    if np.size(pos) == 0:\n",
    "        print(\"numerical issue in kullback\")\n",
    "        vp = v\n",
    "        up = u\n",
    "    else:\n",
    "        vp = v[:,pos]\n",
    "        up = u[pos]\n",
    "\n",
    "    k = 0.5* (np.sum(np.diag(vp.T*R1*vp)/up) + np.sum(np.log(up)))\n",
    "    if exact:\n",
    "        k -= 0.5* (np.log (np.linalg.det (R1)) + np.shape(R1)[1])\n",
    "\n",
    "    # FIXME\n",
    "    if np.iscomplex(k):\n",
    "        print(\"The criterion is complex !!!\")        #k = real(k)\n",
    "\n",
    "    return k"
   ]
  },
  {
   "cell_type": "code",
   "execution_count": 48,
   "metadata": {},
   "outputs": [],
   "source": [
    "test1 = []\n",
    "test2 = []\n",
    "for _ in range(100):\n",
    "    A = posdef()\n",
    "    B = posdef()\n",
    "    test1.append(KL_2(A,B))\n",
    "    test2.append(KL_1(A,B))\n",
    "   \n"
   ]
  },
  {
   "cell_type": "code",
   "execution_count": 49,
   "metadata": {},
   "outputs": [],
   "source": [
    "test1 = []\n",
    "test2 = []\n",
    "for _ in range(1000):\n",
    "    A = posdef()\n",
    "    B = posdef()\n",
    "    time_start = time.time()\n",
    "    KL_2(A,B)\n",
    "    time_end = time.time()\n",
    "    test2.append(time_end-time_start)\n",
    "    \n",
    "    time_start = time.time()\n",
    "    KL_1(A,B)\n",
    "    time_end = time.time()\n",
    "    test1.append(time_end-time_start)\n",
    "    \n",
    "    \n",
    "   \n",
    "\n"
   ]
  },
  {
   "cell_type": "code",
   "execution_count": 50,
   "metadata": {},
   "outputs": [
    {
     "name": "stdout",
     "output_type": "stream",
     "text": [
      "0.0008087773323059082\n",
      "0.0004889364242553711\n"
     ]
    }
   ],
   "source": [
    "print(np.array(test1).mean())\n",
    "print(np.array(test2).mean())"
   ]
  },
  {
   "cell_type": "code",
   "execution_count": null,
   "metadata": {},
   "outputs": [],
   "source": []
  }
 ],
 "metadata": {
  "kernelspec": {
   "display_name": "Python 3",
   "language": "python",
   "name": "python3"
  },
  "language_info": {
   "codemirror_mode": {
    "name": "ipython",
    "version": 3
   },
   "file_extension": ".py",
   "mimetype": "text/x-python",
   "name": "python",
   "nbconvert_exporter": "python",
   "pygments_lexer": "ipython3",
   "version": "3.8.3"
  }
 },
 "nbformat": 4,
 "nbformat_minor": 4
}
