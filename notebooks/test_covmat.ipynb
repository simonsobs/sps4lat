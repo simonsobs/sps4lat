{
 "cells": [
  {
   "cell_type": "code",
   "execution_count": 1,
   "metadata": {},
   "outputs": [],
   "source": [
    "import sps4lat.utils as uts\n",
    "import sps4lat.covariance as cov \n",
    "import numpy as np \n",
    "import matplotlib.pyplot as plt \n",
    "import healpy as hp "
   ]
  },
  {
   "cell_type": "code",
   "execution_count": 2,
   "metadata": {},
   "outputs": [],
   "source": [
    "LMAX = 3000\n",
    "N = 30\n",
    "ell = np.linspace(0,LMAX,LMAX+1)\n",
    "lmins = np.arange(0,LMAX,N)\n",
    "lmaxs = np.arange(N-1,LMAX,N)\n",
    "if lmaxs[-1] >= lmins[-1]:\n",
    "    lmaxs = lmaxs[:-1]\n",
    "if lmaxs[-1] != LMAX :\n",
    "    lmaxs = np.append(lmaxs,LMAX)\n",
    "domain_list = [cov.Domain(lmin,lmax) for (lmin,lmax) in zip(lmins,lmaxs)]\n",
    "ell = np.array([domain.lmean for domain in domain_list])"
   ]
  },
  {
   "cell_type": "code",
   "execution_count": 3,
   "metadata": {},
   "outputs": [],
   "source": [
    "real = np.random.randint(0,10)\n",
    "nside = [1024,1024,1024,1024,1024]\n",
    "fr = [0,1,2,3,4]\n",
    "file_list = ['/Volumes/BEN_FILMS/PhD/sps4lat/data/test_maps/test_real{:d}_fr{:d}_nside{:d}.fits'.format(real,f,ns) for (f,ns) in zip(fr,nside)]\n",
    "map_list = [hp.read_map(file,verbose=False) for file in file_list]"
   ]
  },
  {
   "cell_type": "code",
   "execution_count": 4,
   "metadata": {},
   "outputs": [
    {
     "data": {
      "text/plain": [
       "(100, 5, 5)"
      ]
     },
     "execution_count": 4,
     "metadata": {},
     "output_type": "execute_result"
    }
   ],
   "source": [
    "covmat = cov.get_covmat_maps(map_list,domain_list,None,LMAX)\n",
    "covmat.shape"
   ]
  },
  {
   "cell_type": "code",
   "execution_count": 5,
   "metadata": {},
   "outputs": [
    {
     "name": "stderr",
     "output_type": "stream",
     "text": [
      "/usr/local/lib/python3.7/site-packages/numpy/core/_asarray.py:138: ComplexWarning: Casting complex values to real discards the imaginary part\n",
      "  return array(a, dtype, copy=False, order=order, subok=True)\n"
     ]
    },
    {
     "data": {
      "image/png": "[encoded data removed]",
      "text/plain": [
       "<Figure size 432x288 with 1 Axes>"
      ]
     },
     "metadata": {
      "needs_background": "light"
     },
     "output_type": "display_data"
    }
   ],
   "source": [
    "plt.figure()\n",
    "plt.scatter(ell,ell*(ell+1)/2/np.pi*covmat[:,0,0])\n",
    "plt.show()"
   ]
  },
  {
   "cell_type": "code",
   "execution_count": null,
   "metadata": {},
   "outputs": [],
   "source": []
  }
 ],
 "metadata": {
  "kernelspec": {
   "display_name": "Python 3",
   "language": "python",
   "name": "python3"
  },
  "language_info": {
   "codemirror_mode": {
    "name": "ipython",
    "version": 3
   },
   "file_extension": ".py",
   "mimetype": "text/x-python",
   "name": "python",
   "nbconvert_exporter": "python",
   "pygments_lexer": "ipython3",
   "version": "3.7.7"
  }
 },
 "nbformat": 4,
 "nbformat_minor": 4
}
