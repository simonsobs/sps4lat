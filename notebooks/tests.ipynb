{
 "cells": [
  {
   "cell_type": "code",
   "execution_count": 1,
   "metadata": {},
   "outputs": [],
   "source": [
    "import fgspectra.frequency as fgf\n",
    "import fgspectra.power as fgp\n",
    "import fgspectra.cross as fgc\n",
    "import numpy as np\n",
    "import matplotlib.pyplot as plt\n",
    "\n",
    "nu = np.array([100.,200.,400.])\n",
    "ells = np.linspace(2,10,9)"
   ]
  },
  {
   "cell_type": "code",
   "execution_count": 2,
   "metadata": {},
   "outputs": [
    {
     "data": {
      "text/plain": [
       "{'beta': array([[-0.00050076, -0.00365646, -0.03961693]]),\n",
       " 'temp': array([[-2.85085325e-05, -2.86016409e-04, -4.56012232e-03]])}"
      ]
     },
     "execution_count": 2,
     "metadata": {},
     "output_type": "execute_result"
    }
   ],
   "source": [
    "sed = fgf.ModifiedBlackBody(nu=nu, nu_0=500.)\n",
    "sed_diff = sed.diff(beta=3., temp=12)\n",
    "sed_diff"
   ]
  },
  {
   "cell_type": "code",
   "execution_count": 3,
   "metadata": {},
   "outputs": [
    {
     "name": "stdout",
     "output_type": "stream",
     "text": [
      "warning: I need to check the units on this\n"
     ]
    },
    {
     "data": {
      "text/plain": [
       "{'EM': array([[14.55139965, 14.16924818, 13.787097  ]]),\n",
       " 'Te': array([[0.07088505, 0.07088501, 0.07088495]])}"
      ]
     },
     "execution_count": 3,
     "metadata": {},
     "output_type": "execute_result"
    }
   ],
   "source": [
    "sed = fgf.FreeFree(nu=nu)\n",
    "sed_diff = sed.diff(Te=7000, EM=600)\n",
    "sed_diff"
   ]
  },
  {
   "cell_type": "code",
   "execution_count": 4,
   "metadata": {},
   "outputs": [],
   "source": [
    "import sps4lat.model as mod\n",
    "ell = np.arange(10)\n"
   ]
  },
  {
   "cell_type": "code",
   "execution_count": 6,
   "metadata": {},
   "outputs": [
    {
     "data": {
      "text/plain": [
       "{'amp': array([[   0.        ,    0.        , 1107.66918779,  523.83186404,\n",
       "          296.47780445,  188.41864467,  129.85103962,   94.99857603,\n",
       "           72.69197201,   57.60791962]])}"
      ]
     },
     "execution_count": 6,
     "metadata": {},
     "output_type": "execute_result"
    }
   ],
   "source": [
    "cl = mod.CMB(ell=ell, amp = None)\n",
    "cl_diff = cl.diff(amp=10.)\n",
    "cl_diff"
   ]
  },
  {
   "cell_type": "code",
   "execution_count": null,
   "metadata": {},
   "outputs": [],
   "source": []
  },
  {
   "cell_type": "code",
   "execution_count": null,
   "metadata": {},
   "outputs": [],
   "source": [
    "a_diff = np.eye(3)\n",
    "a = np.ones(3)\n",
    "cls = np.arange(15)\n",
    "diff = np.einsum('p...i,...j,...l->p...ijl',a_diff,a,cls) + np.einsum('...i,p...j,l->p...ijl',a,a_diff,cls)\n",
    "diff.shape"
   ]
  },
  {
   "cell_type": "code",
   "execution_count": null,
   "metadata": {},
   "outputs": [],
   "source": [
    "a = np.zeros((3, 3, 3))\n",
    "np.fill_diagonal(a,np.array([1,2,3]))\n",
    "b = np.broadcast_to(a,(25,3,3,3)).T\n",
    "b.shape\n",
    "b[0,...,10]"
   ]
  },
  {
   "cell_type": "code",
   "execution_count": null,
   "metadata": {},
   "outputs": [],
   "source": []
  }
 ],
 "metadata": {
  "kernelspec": {
   "display_name": "Python 3",
   "language": "python",
   "name": "python3"
  },
  "language_info": {
   "codemirror_mode": {
    "name": "ipython",
    "version": 3
   },
   "file_extension": ".py",
   "mimetype": "text/x-python",
   "name": "python",
   "nbconvert_exporter": "python",
   "pygments_lexer": "ipython3",
   "version": "3.8.3"
  }
 },
 "nbformat": 4,
 "nbformat_minor": 4
}
