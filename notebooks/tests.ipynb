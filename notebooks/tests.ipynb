{
 "cells": [
  {
   "cell_type": "code",
   "execution_count": 58,
   "metadata": {},
   "outputs": [],
   "source": [
    "import numpy as np \n",
    "from functools import reduce\n",
    "from sps4lat import model as mod\n",
    "\n",
    "ref_param = {'a':1.,'b':np.array([1.2,2.6]),'c':np.array([[1.,2.7],[7.8,2.3]])}\n",
    "theta_list = [np.array(vv).flatten() for vv in ref_param.values()]"
   ]
  },
  {
   "cell_type": "code",
   "execution_count": 2,
   "metadata": {},
   "outputs": [],
   "source": [
    "def pos_def(n):\n",
    "    A = np.random.rand(10000,n,n)\n",
    "    return np.einsum('lab,lcb->lac',A,A)\n"
   ]
  },
  {
   "cell_type": "code",
   "execution_count": 65,
   "metadata": {},
   "outputs": [],
   "source": [
    "def KL_1(A,B):\n",
    "    inv_A = np.linalg.inv(A)\n",
    "    m = A.shape[1]\n",
    "    sign,logdet = np.linalg.slogdet(np.einsum('lab,lbc->lac',inv_A,B)) \n",
    "    return .5*(np.einsum('lab,lba->l',inv_A,B) )"
   ]
  },
  {
   "cell_type": "code",
   "execution_count": 55,
   "metadata": {},
   "outputs": [],
   "source": [
    "def KL_2(A,B):\n",
    "    m = A.shape[1]\n",
    "    chol_A = np.linalg.cholesky(A)\n",
    "    chol_B = np.linalg.cholesky(B)\n",
    "    z  = np.linalg.solve(chol_A, chol_B)\n",
    "    k  = np.einsum('laa->l',z) \n",
    "    return .5*k"
   ]
  },
  {
   "cell_type": "code",
   "execution_count": 56,
   "metadata": {},
   "outputs": [],
   "source": [
    "A = pos_def(10)\n",
    "B = pos_def(10)"
   ]
  },
  {
   "cell_type": "code",
   "execution_count": 57,
   "metadata": {},
   "outputs": [
    {
     "name": "stdout",
     "output_type": "stream",
     "text": [
      "[ 67.94833834  28.06858598 210.22632242 ...  55.89697828 228.20550718\n",
      " 276.64319614]\n",
      "CPU times: user 170 ms, sys: 25.4 ms, total: 195 ms\n",
      "Wall time: 107 ms\n"
     ]
    }
   ],
   "source": [
    "%%time\n",
    "res_1 = KL_1(A,B)\n",
    "print(res_1)"
   ]
  },
  {
   "cell_type": "code",
   "execution_count": 58,
   "metadata": {},
   "outputs": [
    {
     "name": "stdout",
     "output_type": "stream",
     "text": [
      "[4.94637707 4.68578956 4.43734394 ... 4.42768365 5.30389291 7.68950807]\n",
      "CPU times: user 107 ms, sys: 16.8 ms, total: 124 ms\n",
      "Wall time: 74.1 ms\n"
     ]
    }
   ],
   "source": [
    "%%time\n",
    "res_2 = KL_2(A,B)\n",
    "print(res_2)"
   ]
  },
  {
   "cell_type": "code",
   "execution_count": 37,
   "metadata": {},
   "outputs": [
    {
     "name": "stdout",
     "output_type": "stream",
     "text": [
      "[254.0746173  363.10812259 778.25755095 ...  44.03968552  41.29215547\n",
      " 567.57236305]\n"
     ]
    }
   ],
   "source": [
    "print(np.abs(res_1-res_2))"
   ]
  },
  {
   "cell_type": "code",
   "execution_count": 85,
   "metadata": {},
   "outputs": [],
   "source": [
    "pl = mod.PowerLaw(nu_0=50., ell_0=10.)\n",
    "freqs = np.array([100.,200.,300.])\n",
    "ells = np.linspace(2,100,99)\n",
    "cov1 = pl.eval(nu=freqs,ell=ells, alpha=3.,beta=2.5) + np.broadcast_to(1e-10 * np.identity(3),(99,3,3))\n",
    "cov2 = pl.eval(nu=freqs,ell=ells, alpha=4.2,beta=3.6) + np.broadcast_to(1e-10 * np.identity(3),(99,3,3))\n"
   ]
  },
  {
   "cell_type": "code",
   "execution_count": 86,
   "metadata": {},
   "outputs": [
    {
     "name": "stdout",
     "output_type": "stream",
     "text": [
      "[ 2.00637562e-16  1.10407653e-15  3.70177939e-15  9.42088470e-15\n",
      "  2.00109673e-14  3.82335478e-14  7.36822177e-14  1.09862979e-13\n",
      "  1.71014459e-13  1.02042005e-13  5.88235096e-13  8.22669439e-13\n",
      "  5.61527511e-13  2.25080479e-12  3.92955744e-12  2.54215097e-12\n",
      "  0.00000000e+00  8.08732392e-12  0.00000000e+00  0.00000000e+00\n",
      " -2.99395294e-11  0.00000000e+00 -4.36674789e-11  0.00000000e+00\n",
      " -1.22233138e-10 -1.46638454e-10  0.00000000e+00  0.00000000e+00\n",
      "  4.14052567e-10 -4.87372151e-10  5.56892674e-10  0.00000000e+00\n",
      " -7.18378039e-10 -1.29821722e-09  0.00000000e+00  4.09872545e-10\n",
      " -2.06302840e-09  0.00000000e+00  2.84330570e-09  6.30803051e-10\n",
      " -5.58391236e-09 -7.70493715e-10  0.00000000e+00  5.59558369e-09\n",
      "  0.00000000e+00 -8.95576270e-09 -7.33780277e-09  1.06687886e-08\n",
      "  1.16135660e-08 -2.52415668e-08  0.00000000e+00  0.00000000e+00\n",
      " -3.20904170e-08  5.19919522e-08 -3.73861964e-08 -8.05426583e-08\n",
      "  0.00000000e+00  0.00000000e+00 -4.99524532e-08  0.00000000e+00\n",
      "  1.71983950e-07  2.45251611e-07 -1.31010908e-07  2.79651826e-07\n",
      " -2.98171473e-07  3.17611144e-07  3.38001785e-07  3.59374901e-07\n",
      " -7.63525111e-07  0.00000000e+00  8.59425117e-07  9.10683712e-07\n",
      "  0.00000000e+00  1.02016134e-06  0.00000000e+00 -4.55756209e-06\n",
      " -2.40568568e-06  0.00000000e+00 -2.67558959e-06 -5.63778653e-06\n",
      "  0.00000000e+00  0.00000000e+00 -6.56817249e-06 -3.45144566e-06\n",
      "  0.00000000e+00  0.00000000e+00  0.00000000e+00  8.37354919e-06\n",
      " -1.75517362e-05  3.67709955e-05  0.00000000e+00  0.00000000e+00\n",
      "  0.00000000e+00  0.00000000e+00 -4.60331525e-05 -4.80809260e-05\n",
      " -2.50986904e-05  0.00000000e+00 -5.46426231e-05]\n",
      "[ 2.71653328e-17  9.16352874e-17  2.17144068e-16  4.24357370e-16\n",
      "  7.31548642e-16  1.15892218e-15  1.72565756e-15  2.44522707e-15\n",
      "  3.37042491e-15  4.44334767e-15  5.71266721e-15  7.54722399e-15\n",
      "  9.07241667e-15  1.09376770e-14  1.27407528e-14  1.52820602e-14\n",
      "  1.81333391e-14  2.13265729e-14  2.48842828e-14  2.87834741e-14\n",
      "  3.03608987e-14  4.41535308e-14  4.30346622e-14  5.67937756e-14\n",
      "  6.36798547e-14  6.12246672e-14  5.69020599e-14  2.53283363e-14\n",
      "  8.41196950e-14  1.23554611e-13  6.80601029e-14  3.72011011e-14\n",
      "  8.13730739e-14  8.87662972e-14  9.62826996e-14  2.09738974e-13\n",
      "  1.13237832e-13  2.45622297e-13  1.32502461e-13  1.43611243e-13\n",
      "  1.53388162e-13  3.31338753e-13  0.00000000e+00  1.89877897e-13\n",
      "  4.03039361e-13  0.00000000e+00  0.00000000e+00 -4.90292339e-13\n",
      "  5.20927014e-13 -5.45724583e-13  1.15691917e-12  0.00000000e+00\n",
      "  0.00000000e+00  6.75575552e-13 -7.31864948e-13 -1.52376345e-12\n",
      " -3.25245157e-12  0.00000000e+00  0.00000000e+00 -3.88071498e-12\n",
      "  1.96095692e-12  0.00000000e+00 -2.12890251e-12 -4.57790660e-12\n",
      " -4.79246185e-12 -2.50680915e-12 -2.55353956e-12  2.66786054e-12\n",
      " -2.78554367e-12  0.00000000e+00 -5.90284616e-12  6.15222989e-12\n",
      "  0.00000000e+00  0.00000000e+00 -6.75469165e-12 -7.21998260e-12\n",
      "  0.00000000e+00 -8.00805637e-12 -7.87833988e-12 -9.08609554e-12\n",
      " -8.95544982e-12 -9.28710006e-12 -9.62683894e-12 -9.44977633e-12\n",
      "  0.00000000e+00 -2.13911238e-11 -2.21372597e-11 -1.26555657e-11\n",
      " -1.24637799e-11 -2.57677451e-11  0.00000000e+00  2.61291143e-11\n",
      " -2.84011417e-11 -2.93172381e-11 -3.02528251e-11  2.96477026e-11\n",
      " -5.79299255e-11 -3.31785821e-11  0.00000000e+00]\n"
     ]
    }
   ],
   "source": [
    "print(np.linalg.det(cov2))\n",
    "print(np.linalg.det(cov1))\n"
   ]
  },
  {
   "cell_type": "code",
   "execution_count": 67,
   "metadata": {},
   "outputs": [
    {
     "ename": "LinAlgError",
     "evalue": "Singular matrix",
     "output_type": "error",
     "traceback": [
      "\u001b[0;31m---------------------------------------------------------------------------\u001b[0m",
      "\u001b[0;31mLinAlgError\u001b[0m                               Traceback (most recent call last)",
      "\u001b[0;32m<ipython-input-67-9a4faf118048>\u001b[0m in \u001b[0;36m<module>\u001b[0;34m\u001b[0m\n\u001b[0;32m----> 1\u001b[0;31m \u001b[0mKL_1\u001b[0m\u001b[0;34m(\u001b[0m\u001b[0mcov2\u001b[0m\u001b[0;34m,\u001b[0m\u001b[0mcov1\u001b[0m\u001b[0;34m)\u001b[0m\u001b[0;34m\u001b[0m\u001b[0;34m\u001b[0m\u001b[0m\n\u001b[0m",
      "\u001b[0;32m<ipython-input-65-cb82c281796e>\u001b[0m in \u001b[0;36mKL_1\u001b[0;34m(A, B)\u001b[0m\n\u001b[1;32m      1\u001b[0m \u001b[0;32mdef\u001b[0m \u001b[0mKL_1\u001b[0m\u001b[0;34m(\u001b[0m\u001b[0mA\u001b[0m\u001b[0;34m,\u001b[0m\u001b[0mB\u001b[0m\u001b[0;34m)\u001b[0m\u001b[0;34m:\u001b[0m\u001b[0;34m\u001b[0m\u001b[0;34m\u001b[0m\u001b[0m\n\u001b[0;32m----> 2\u001b[0;31m     \u001b[0minv_A\u001b[0m \u001b[0;34m=\u001b[0m \u001b[0mnp\u001b[0m\u001b[0;34m.\u001b[0m\u001b[0mlinalg\u001b[0m\u001b[0;34m.\u001b[0m\u001b[0minv\u001b[0m\u001b[0;34m(\u001b[0m\u001b[0mA\u001b[0m\u001b[0;34m)\u001b[0m\u001b[0;34m\u001b[0m\u001b[0;34m\u001b[0m\u001b[0m\n\u001b[0m\u001b[1;32m      3\u001b[0m     \u001b[0mm\u001b[0m \u001b[0;34m=\u001b[0m \u001b[0mA\u001b[0m\u001b[0;34m.\u001b[0m\u001b[0mshape\u001b[0m\u001b[0;34m[\u001b[0m\u001b[0;36m1\u001b[0m\u001b[0;34m]\u001b[0m\u001b[0;34m\u001b[0m\u001b[0;34m\u001b[0m\u001b[0m\n\u001b[1;32m      4\u001b[0m     \u001b[0msign\u001b[0m\u001b[0;34m,\u001b[0m\u001b[0mlogdet\u001b[0m \u001b[0;34m=\u001b[0m \u001b[0mnp\u001b[0m\u001b[0;34m.\u001b[0m\u001b[0mlinalg\u001b[0m\u001b[0;34m.\u001b[0m\u001b[0mslogdet\u001b[0m\u001b[0;34m(\u001b[0m\u001b[0mnp\u001b[0m\u001b[0;34m.\u001b[0m\u001b[0meinsum\u001b[0m\u001b[0;34m(\u001b[0m\u001b[0;34m'lab,lbc->lac'\u001b[0m\u001b[0;34m,\u001b[0m\u001b[0minv_A\u001b[0m\u001b[0;34m,\u001b[0m\u001b[0mB\u001b[0m\u001b[0;34m)\u001b[0m\u001b[0;34m)\u001b[0m\u001b[0;34m\u001b[0m\u001b[0;34m\u001b[0m\u001b[0m\n\u001b[1;32m      5\u001b[0m     \u001b[0;32mreturn\u001b[0m \u001b[0;36m.5\u001b[0m\u001b[0;34m*\u001b[0m\u001b[0;34m(\u001b[0m\u001b[0mnp\u001b[0m\u001b[0;34m.\u001b[0m\u001b[0meinsum\u001b[0m\u001b[0;34m(\u001b[0m\u001b[0;34m'lab,lba->l'\u001b[0m\u001b[0;34m,\u001b[0m\u001b[0minv_A\u001b[0m\u001b[0;34m,\u001b[0m\u001b[0mB\u001b[0m\u001b[0;34m)\u001b[0m \u001b[0;34m)\u001b[0m\u001b[0;34m\u001b[0m\u001b[0;34m\u001b[0m\u001b[0m\n",
      "\u001b[0;32m<__array_function__ internals>\u001b[0m in \u001b[0;36minv\u001b[0;34m(*args, **kwargs)\u001b[0m\n",
      "\u001b[0;32m/usr/local/lib/python3.7/site-packages/numpy/linalg/linalg.py\u001b[0m in \u001b[0;36minv\u001b[0;34m(a)\u001b[0m\n\u001b[1;32m    545\u001b[0m     \u001b[0msignature\u001b[0m \u001b[0;34m=\u001b[0m \u001b[0;34m'D->D'\u001b[0m \u001b[0;32mif\u001b[0m \u001b[0misComplexType\u001b[0m\u001b[0;34m(\u001b[0m\u001b[0mt\u001b[0m\u001b[0;34m)\u001b[0m \u001b[0;32melse\u001b[0m \u001b[0;34m'd->d'\u001b[0m\u001b[0;34m\u001b[0m\u001b[0;34m\u001b[0m\u001b[0m\n\u001b[1;32m    546\u001b[0m     \u001b[0mextobj\u001b[0m \u001b[0;34m=\u001b[0m \u001b[0mget_linalg_error_extobj\u001b[0m\u001b[0;34m(\u001b[0m\u001b[0m_raise_linalgerror_singular\u001b[0m\u001b[0;34m)\u001b[0m\u001b[0;34m\u001b[0m\u001b[0;34m\u001b[0m\u001b[0m\n\u001b[0;32m--> 547\u001b[0;31m     \u001b[0mainv\u001b[0m \u001b[0;34m=\u001b[0m \u001b[0m_umath_linalg\u001b[0m\u001b[0;34m.\u001b[0m\u001b[0minv\u001b[0m\u001b[0;34m(\u001b[0m\u001b[0ma\u001b[0m\u001b[0;34m,\u001b[0m \u001b[0msignature\u001b[0m\u001b[0;34m=\u001b[0m\u001b[0msignature\u001b[0m\u001b[0;34m,\u001b[0m \u001b[0mextobj\u001b[0m\u001b[0;34m=\u001b[0m\u001b[0mextobj\u001b[0m\u001b[0;34m)\u001b[0m\u001b[0;34m\u001b[0m\u001b[0;34m\u001b[0m\u001b[0m\n\u001b[0m\u001b[1;32m    548\u001b[0m     \u001b[0;32mreturn\u001b[0m \u001b[0mwrap\u001b[0m\u001b[0;34m(\u001b[0m\u001b[0mainv\u001b[0m\u001b[0;34m.\u001b[0m\u001b[0mastype\u001b[0m\u001b[0;34m(\u001b[0m\u001b[0mresult_t\u001b[0m\u001b[0;34m,\u001b[0m \u001b[0mcopy\u001b[0m\u001b[0;34m=\u001b[0m\u001b[0;32mFalse\u001b[0m\u001b[0;34m)\u001b[0m\u001b[0;34m)\u001b[0m\u001b[0;34m\u001b[0m\u001b[0;34m\u001b[0m\u001b[0m\n\u001b[1;32m    549\u001b[0m \u001b[0;34m\u001b[0m\u001b[0m\n",
      "\u001b[0;32m/usr/local/lib/python3.7/site-packages/numpy/linalg/linalg.py\u001b[0m in \u001b[0;36m_raise_linalgerror_singular\u001b[0;34m(err, flag)\u001b[0m\n\u001b[1;32m     95\u001b[0m \u001b[0;34m\u001b[0m\u001b[0m\n\u001b[1;32m     96\u001b[0m \u001b[0;32mdef\u001b[0m \u001b[0m_raise_linalgerror_singular\u001b[0m\u001b[0;34m(\u001b[0m\u001b[0merr\u001b[0m\u001b[0;34m,\u001b[0m \u001b[0mflag\u001b[0m\u001b[0;34m)\u001b[0m\u001b[0;34m:\u001b[0m\u001b[0;34m\u001b[0m\u001b[0;34m\u001b[0m\u001b[0m\n\u001b[0;32m---> 97\u001b[0;31m     \u001b[0;32mraise\u001b[0m \u001b[0mLinAlgError\u001b[0m\u001b[0;34m(\u001b[0m\u001b[0;34m\"Singular matrix\"\u001b[0m\u001b[0;34m)\u001b[0m\u001b[0;34m\u001b[0m\u001b[0;34m\u001b[0m\u001b[0m\n\u001b[0m\u001b[1;32m     98\u001b[0m \u001b[0;34m\u001b[0m\u001b[0m\n\u001b[1;32m     99\u001b[0m \u001b[0;32mdef\u001b[0m \u001b[0m_raise_linalgerror_nonposdef\u001b[0m\u001b[0;34m(\u001b[0m\u001b[0merr\u001b[0m\u001b[0;34m,\u001b[0m \u001b[0mflag\u001b[0m\u001b[0;34m)\u001b[0m\u001b[0;34m:\u001b[0m\u001b[0;34m\u001b[0m\u001b[0;34m\u001b[0m\u001b[0m\n",
      "\u001b[0;31mLinAlgError\u001b[0m: Singular matrix"
     ]
    }
   ],
   "source": [
    "KL_1(cov2,cov1)"
   ]
  },
  {
   "cell_type": "code",
   "execution_count": null,
   "metadata": {},
   "outputs": [],
   "source": []
  }
 ],
 "metadata": {
  "kernelspec": {
   "display_name": "Python 3",
   "language": "python",
   "name": "python3"
  },
  "language_info": {
   "codemirror_mode": {
    "name": "ipython",
    "version": 3
   },
   "file_extension": ".py",
   "mimetype": "text/x-python",
   "name": "python",
   "nbconvert_exporter": "python",
   "pygments_lexer": "ipython3",
   "version": "3.7.7"
  }
 },
 "nbformat": 4,
 "nbformat_minor": 4
}
