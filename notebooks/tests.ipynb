{
 "cells": [
  {
   "cell_type": "code",
   "execution_count": 1,
   "metadata": {},
   "outputs": [],
   "source": [
    "import numpy as np "
   ]
  },
  {
   "cell_type": "code",
   "execution_count": 2,
   "metadata": {},
   "outputs": [],
   "source": [
    "def pos_def(n):\n",
    "    A = np.random.rand(10000,n,n)\n",
    "    return np.einsum('lab,lcb->lac',A,A)\n"
   ]
  },
  {
   "cell_type": "code",
   "execution_count": 3,
   "metadata": {},
   "outputs": [],
   "source": [
    "def KL_1(A,B):\n",
    "    inv_A = np.linalg.inv(A)\n",
    "    m = A.shape[1]\n",
    "    sign,logdet = np.linalg.slogdet(np.einsum('lab,lbc->lac',inv_A,B)) \n",
    "    return .5*(np.einsum('lab,lba->l',inv_A,B) - logdet - m)"
   ]
  },
  {
   "cell_type": "code",
   "execution_count": 4,
   "metadata": {},
   "outputs": [],
   "source": [
    "def KL_2(A,B):\n",
    "    N = A.shape[0]\n",
    "    KL = np.zeros(N)\n",
    "    for ii in range(N):\n",
    "        inv_A = np.linalg.inv(A[ii])\n",
    "        m = A.shape[1]\n",
    "        sign,logdet = np.linalg.slogdet(inv_A.dot(B[ii]))\n",
    "        KL[ii] = .5*(np.einsum('ab,ba',inv_A,B[ii]) - logdet - m)\n",
    "    return KL"
   ]
  },
  {
   "cell_type": "code",
   "execution_count": 5,
   "metadata": {},
   "outputs": [],
   "source": [
    "A = pos_def(10)\n",
    "B = pos_def(10)"
   ]
  },
  {
   "cell_type": "code",
   "execution_count": 6,
   "metadata": {},
   "outputs": [
    {
     "name": "stdout",
     "output_type": "stream",
     "text": [
      "CPU times: user 158 ms, sys: 18.4 ms, total: 176 ms\n",
      "Wall time: 92.5 ms\n"
     ]
    }
   ],
   "source": [
    "%%time \n",
    "res_1 = KL_1(A,B)"
   ]
  },
  {
   "cell_type": "code",
   "execution_count": 7,
   "metadata": {},
   "outputs": [
    {
     "name": "stdout",
     "output_type": "stream",
     "text": [
      "CPU times: user 658 ms, sys: 53.3 ms, total: 711 ms\n",
      "Wall time: 367 ms\n"
     ]
    }
   ],
   "source": [
    "%%time \n",
    "res_2 = KL_2(A,B)"
   ]
  },
  {
   "cell_type": "code",
   "execution_count": 8,
   "metadata": {},
   "outputs": [
    {
     "name": "stdout",
     "output_type": "stream",
     "text": [
      "[1.70530257e-12 5.22959454e-11 2.22399876e-11 ... 1.98269845e-10\n",
      " 5.80513415e-12 1.69961822e-10]\n"
     ]
    }
   ],
   "source": [
    "print(np.abs(res_1-res_2))"
   ]
  }
 ],
 "metadata": {
  "kernelspec": {
   "display_name": "Python 3",
   "language": "python",
   "name": "python3"
  },
  "language_info": {
   "codemirror_mode": {
    "name": "ipython",
    "version": 3
   },
   "file_extension": ".py",
   "mimetype": "text/x-python",
   "name": "python",
   "nbconvert_exporter": "python",
   "pygments_lexer": "ipython3",
   "version": "3.7.7"
  }
 },
 "nbformat": 4,
 "nbformat_minor": 4
}
