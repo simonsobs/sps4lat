{
 "cells": [
  {
   "cell_type": "code",
   "execution_count": 1,
   "metadata": {},
   "outputs": [
    {
     "name": "stdout",
     "output_type": "stream",
     "text": [
      "(9, 3, 3, 9)\n"
     ]
    }
   ],
   "source": [
    "import fgspectra.frequency as fgf\n",
    "import fgspectra.power as fgp\n",
    "import fgspectra.cross as fgc\n",
    "import numpy as np\n",
    "import matplotlib.pyplot as plt\n",
    "\n",
    "nu = np.array([100.,200.,400.])\n",
    "ells = np.linspace(2,10,9)\n",
    "sed1 = fgf.PowerLaw(nu=nu, nu_0=200.)\n",
    "sed2 = fgf.FreeSED(nu=nu)\n",
    "cls1 = fgp.FreeCls(ell=ells)\n",
    "cls2 = fgp.FreeCls(ell=ells)\n",
    "cls3 = fgp.FreeCls(ell=ells)\n",
    "sed = fgf.Join(sed1,sed2)\n",
    "cls = fgp.PowerSpectraAndCovariance(cls1,cls2,cls3)\n",
    "\n",
    "tot=fgc.CorrelatedFactorizedCrossSpectrum(sed=sed, cl=cls)\n",
    "diff_dict = {'sed_kwargs': {'kwseq': [{'beta':2.},{'sed': np.ones(3)}]},\n",
    "             'cl_kwargs': {'kwseq': [{'cls': np.ones(9)},{'cls': ells},{'cls': np.zeros(9)}]}}\n",
    "print(tot.diff(**diff_dict)['cl_kwargs']['kwseq'][1]['cls'].shape)"
   ]
  },
  {
   "cell_type": "code",
   "execution_count": null,
   "metadata": {},
   "outputs": [],
   "source": [
    "diff = np.eye(5)\n",
    "shape = diff.shape\n",
    "res = np.zeros((shape[0],2,2,shape[-1]))\n",
    "res[:,0,0,:] = diff"
   ]
  },
  {
   "cell_type": "code",
   "execution_count": 5,
   "metadata": {},
   "outputs": [
    {
     "data": {
      "text/plain": [
       "2"
      ]
     },
     "execution_count": 5,
     "metadata": {},
     "output_type": "execute_result"
    }
   ],
   "source": [
    "a = [1.2,1.6,2.89]\n",
    "np.rint(2.333).astype('int')"
   ]
  },
  {
   "cell_type": "code",
   "execution_count": null,
   "metadata": {},
   "outputs": [],
   "source": [
    "sed = fgf.PowerLaw(nu=nu, beta = np.arange(3),nu_0=np.arange(3)*100)\n",
    "cl = fgp.FreeCls(ell=ell, cls=ell**2)\n",
    "\n",
    "cross = fgc.FactorizedCrossSpectrum(sed=sed, cl=cl)\n",
    "print(sed.eval().shape)\n",
    "\n",
    "a = np.ones((6,2))\n",
    "cl = np.arange(15)\n",
    "cov = a*a*cl\n",
    "cov.shape"
   ]
  },
  {
   "cell_type": "code",
   "execution_count": null,
   "metadata": {},
   "outputs": [],
   "source": [
    "ell = np.arange(10)[np.newaxis,...]\n",
    "ell.shape"
   ]
  },
  {
   "cell_type": "code",
   "execution_count": null,
   "metadata": {},
   "outputs": [],
   "source": [
    "a_diff = np.eye(3)\n",
    "a = np.ones(3)\n",
    "cls = np.arange(15)\n",
    "diff = np.einsum('p...i,...j,...l->p...ijl',a_diff,a,cls) + np.einsum('...i,p...j,l->p...ijl',a,a_diff,cls)\n",
    "diff.shape"
   ]
  },
  {
   "cell_type": "code",
   "execution_count": null,
   "metadata": {},
   "outputs": [],
   "source": [
    "a = np.zeros((3, 3, 3))\n",
    "np.fill_diagonal(a,np.array([1,2,3]))\n",
    "b = np.broadcast_to(a,(25,3,3,3)).T\n",
    "b.shape\n",
    "b[0,...,10]"
   ]
  },
  {
   "cell_type": "code",
   "execution_count": null,
   "metadata": {},
   "outputs": [],
   "source": []
  }
 ],
 "metadata": {
  "kernelspec": {
   "display_name": "Python 3",
   "language": "python",
   "name": "python3"
  },
  "language_info": {
   "codemirror_mode": {
    "name": "ipython",
    "version": 3
   },
   "file_extension": ".py",
   "mimetype": "text/x-python",
   "name": "python",
   "nbconvert_exporter": "python",
   "pygments_lexer": "ipython3",
   "version": "3.8.3"
  }
 },
 "nbformat": 4,
 "nbformat_minor": 4
}
