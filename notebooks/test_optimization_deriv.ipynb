{
 "cells": [
  {
   "cell_type": "code",
   "execution_count": 1,
   "metadata": {},
   "outputs": [],
   "source": [
    "%load_ext autoreload\n",
    "%autoreload 2\n",
    "# %matplotlib widget"
   ]
  },
  {
   "cell_type": "code",
   "execution_count": 2,
   "metadata": {},
   "outputs": [],
   "source": [
    "from sps4lat import model as mod\n",
    "from sps4lat import preprocessing as pre\n",
    "from sps4lat import optimize as opti\n",
    "from sps4lat import utils as uti\n",
    "from fgspectra import cross as fgc\n",
    "from fgspectra import frequency as fgf\n",
    "from fgspectra import power as fgp\n",
    "import healpy as hp \n",
    "import numpy as np \n",
    "import matplotlib.pyplot as plt\n",
    "import warnings\n",
    "import scipy.optimize as opt\n",
    "#warnings.filterwarnings(\"ignore\")\n"
   ]
  },
  {
   "cell_type": "code",
   "execution_count": 3,
   "metadata": {},
   "outputs": [],
   "source": [
    "def _get_order_synfast(cl):\n",
    "    shape = cl.shape\n",
    "    N_freqs = shape[0]\n",
    "    lst_idx = []\n",
    "    for k in range(N_freqs):\n",
    "        T = np.where(np.eye(N_freqs,k=k) == 1)\n",
    "        lst = [[T[0][i], T[1][i]] for i in range(len(T[0]))]\n",
    "        lst_idx.extend(lst)\n",
    "    res = [cl[i,j,:] for i,j in lst_idx]\n",
    "    return res"
   ]
  },
  {
   "cell_type": "code",
   "execution_count": 4,
   "metadata": {},
   "outputs": [
    {
     "name": "stdout",
     "output_type": "stream",
     "text": [
      "(7, 7, 1536)\n"
     ]
    },
    {
     "name": "stderr",
     "output_type": "stream",
     "text": [
      "/Library/Frameworks/Python.framework/Versions/3.8/lib/python3.8/site-packages/healpy/fitsfunc.py:184: FutureWarning: The default dtype of write_map() will change in a future version: explicitly set the dtype if it is important to you\n",
      "  warnings.warn(\n",
      "/Library/Frameworks/Python.framework/Versions/3.8/lib/python3.8/site-packages/healpy/fitsfunc.py:184: FutureWarning: The default dtype of write_map() will change in a future version: explicitly set the dtype if it is important to you\n",
      "  warnings.warn(\n"
     ]
    }
   ],
   "source": [
    "#### SKY SIMULATION ####\n",
    "nside = 512\n",
    "lmax = 3 * nside - 1\n",
    "ells = np.linspace(0, lmax, lmax + 1)\n",
    "freqs = np.array([30., 44., 70., 100., 143., 217., 353.])\n",
    "N = len(freqs)\n",
    "\n",
    "## Noise ##\n",
    "nwhite = np.array([145.,149.,137.,65.,43.,66.,200.])*np.pi/180./60./10.\n",
    "noise = mod.WhiteNoise(ell=np.linspace(0,lmax,lmax+1), nu=freqs, nwhite=nwhite)\n",
    "\n",
    "## Foregrounds ##\n",
    "# fgs_sed = fgf.ThermalSZ(nu=freqs, nu_0=150.)\n",
    "# fgs_power = fgp.tSZ_150_bat()\n",
    "# fgs_power.set_defaults(ell=np.linspace(0,lmax,lmax+1).astype('int'), ell_0=3000, amp=4.66)\n",
    "# fgs_dict = {'sed_kwargs': {'kwseq': [{'nu': freqs, 'nu_0': 150.}, \n",
    "#                                      {'nu': freqs, 'nu_0': 150., 'temp': 9.7, 'beta': 2.08}]}, \n",
    "#             'cl_kwargs': {'kwseq': [{'ell': ells, 'ell_0': 3000, 'amp': 4.66}, \n",
    "#                                     {'ell': ells, 'alpha': 2.-1.20, 'ell_0': 3000, 'amp': 6.1}, \n",
    "#                                     {'ell': ells, 'ell_0': 3000, 'amp': -0.09*np.sqrt(6.1*4.66)}]}}\n",
    "# fgs = fgc.SZxCIB()\n",
    "# fgs.set_defaults(**fgs_dict)\n",
    "# fgs = fgc.FactorizedCrossSpectrum(sed=fgs_sed, cl=fgs_power)\n",
    "# fgs_dl = fgs.eval()\n",
    "# to_dl = ells * (ells + 1) / 2. / np.pi\n",
    "# to_dl[0] = 1.\n",
    "# fgs_cl = fgs_dl / to_dl\n",
    "\n",
    "fgs_sed = fgf.PowerLaw(nu=freqs, nu_0=500., beta = 3.)\n",
    "fgs_cl = fgp.FreeCls(ell=ells, cls = 100*np.ones(len(ells)))\n",
    "fgs = fgc.FactorizedCrossSpectrum(sed=fgs_sed, cl=fgs_cl)\n",
    "\n",
    "## CMB ##\n",
    "cmb_cls = mod.CMB(ell=ells)\n",
    "cmb_sed = mod.FreeSED(nu=freqs, sed=np.ones(N))\n",
    "cmb = mod.FactorizedCrossSpectrum(sed=cmb_sed, cl=cmb_cls)\n",
    "\n",
    "## Total ##\n",
    "model_init = fgc.Sum(cmb,fgs,noise)\n",
    "\n",
    "cl = model_init.eval()# + fgs_cl\n",
    "\n",
    "print(cl.shape)\n",
    "## Generating maps ##\n",
    "mp = hp.synfast(_get_order_synfast(cl),nside=nside, new=True, verbose=False, pol=False)\n",
    "for i,fr in enumerate(freqs): \n",
    "    filename = '../data/test/maps/test_pl/{:d}GHz.fits'.format(int(fr))\n",
    "    hp.write_map(filename, mp[i],overwrite = True)"
   ]
  },
  {
   "cell_type": "code",
   "execution_count": 5,
   "metadata": {},
   "outputs": [
    {
     "name": "stderr",
     "output_type": "stream",
     "text": [
      "/Library/Frameworks/Python.framework/Versions/3.8/lib/python3.8/site-packages/healpy/fitsfunc.py:351: UserWarning: If you are not specifying the input dtype and using the default np.float64 dtype of read_map(), please consider that it will change in a future version to None as to keep the same dtype of the input file: please explicitly set the dtype if it is important to you.\n",
      "  warnings.warn(\n"
     ]
    }
   ],
   "source": [
    "#### PLOTS OF MAPS ####\n",
    "map_list = []\n",
    "for i,fr in enumerate(freqs): \n",
    "    filename = '../data/test/maps/test_pl/{:d}GHz.fits'.format(int(fr))\n",
    "    map_list.append(hp.read_map(filename, verbose = False))\n",
    "alms = uti.get_alms(map_list)\n"
   ]
  },
  {
   "cell_type": "code",
   "execution_count": 6,
   "metadata": {},
   "outputs": [],
   "source": [
    "nbins = 100\n",
    "\n",
    "#### BINNING EMP COV + PLOT ####\n",
    "bins = np.linspace(5,lmax,nbins).astype('int')\n",
    "emp_cov = pre.empirical_covmat(alms)[...,2:]\n",
    "ell = np.linspace(2,lmax,lmax-1)\n",
    "ell_mean, emp_cov_binned = uti.bin_spectra(ell=ell, spectra=emp_cov, bins=bins) \n",
    "\n",
    "bins_max = bins[1:]\n",
    "bins_min = bins[:-1]\n",
    "n_bins = len(bins) - 1\n",
    "#weights = np.array([(bins_max[i] - bins_min[i]) * (bins_max[i] + bins_min[i]) for i in range(n_bins)])\n",
    "weights = bins_max * (2 * bins_max + 1) - (2 * bins_min + 1) * (2 * bins_min - 1) / 2"
   ]
  },
  {
   "cell_type": "code",
   "execution_count": 7,
   "metadata": {
    "scrolled": true
   },
   "outputs": [
    {
     "data": {
      "text/plain": [
       "<Figure size 1296x1008 with 0 Axes>"
      ]
     },
     "metadata": {},
     "output_type": "display_data"
    }
   ],
   "source": [
    "fig = plt.figure(figsize=(18, 14))"
   ]
  },
  {
   "cell_type": "code",
   "execution_count": 12,
   "metadata": {},
   "outputs": [
    {
     "name": "stdout",
     "output_type": "stream",
     "text": [
      "{'kwseq': [{'cl_kwargs': {'amp': array(1.46189988)}}, {'sed_kwargs': {'beta': array(2.96497044)}}, {'nwhite': array([0.00332335, 0.0034903 , 0.00294591, 0.00113267, 0.        ,\n",
      "       0.        , 0.        ])}]}\n",
      "DONE\n",
      "{'kwseq': [{'cl_kwargs': {'amp': array(1.00307907)}}, {'sed_kwargs': {'beta': array(3.00049737)}}, {'nwhite': array([0.00453779, 0.00112117, 0.00426629, 0.00146109, 0.        ,\n",
      "       0.        , 0.        ])}]}\n",
      "{'kwseq': [{'cl_kwargs': {'amp': array(1.00307902)}}, {'sed_kwargs': {'beta': array(3.00049737)}}, {'nwhite': array([0.00458815, 0.        , 0.00428436, 0.00399801, 0.        ,\n",
      "       0.00749604, 0.        ])}]}\n",
      "{'kwseq': [{'cl_kwargs': {'amp': array(1.003079)}}, {'sed_kwargs': {'beta': array(3.00049737)}}, {'nwhite': array([0.00455277, 0.00057957, 0.00425444, 0.00155511, 0.        ,\n",
      "       0.        , 0.        ])}]}\n",
      "DONE\n",
      "{'kwseq': [{'cl_kwargs': {'amp': array(0.97772782)}}, {'sed_kwargs': {'beta': array(3.00049777)}}, {'nwhite': array([0.00357349, 0.00489142, 0.01133665, 0.00200335, 0.        ,\n",
      "       0.        , 0.        ])}]}\n",
      "DONE\n",
      "{'kwseq': [{'cl_kwargs': {'amp': array(0.97772782)}}, {'sed_kwargs': {'beta': array(3.00049777)}}, {'nwhite': array([0.        , 0.00719254, 0.03145716, 0.01189979, 0.        ,\n",
      "       0.09471122, 0.        ])}]}\n",
      "{'kwseq': [{'cl_kwargs': {'amp': array(0.97772782)}}, {'sed_kwargs': {'beta': array(3.00049777)}}, {'nwhite': array([0.        , 0.00723723, 0.03042951, 0.00266331, 0.        ,\n",
      "       0.00394439, 0.        ])}]}\n",
      "{'kwseq': [{'cl_kwargs': {'amp': array(0.97772782)}}, {'sed_kwargs': {'beta': array(3.00049777)}}, {'nwhite': array([0.00328235, 0.005221  , 0.00902733, 0.00170764, 0.        ,\n",
      "       0.        , 0.        ])}]}\n",
      "DONE\n"
     ]
    }
   ],
   "source": [
    "#### MODEL OF THE COVMAT ####\n",
    "\n",
    "## Noise ##\n",
    "noise = mod.WhiteNoise(ell=ell_mean, nu=freqs, nwhite=None)\n",
    "\n",
    "## CMB ##\n",
    "cmb_cls = mod.CMB(ell=ell_mean, amp=None)\n",
    "cmb_sed = mod.FreeSED(nu=freqs, sed=np.ones(N))\n",
    "cmb = mod.FactorizedCrossSpectrum(sed=cmb_sed, cl=cmb_cls)\n",
    "    \n",
    "## FGS ##\n",
    "fgs_sed = fgf.PowerLaw(nu=freqs, nu_0=500., beta = None)\n",
    "fgs_cls = fgp.FreeCls(ell=ell_mean, cls = 100.*np.ones(len(ell_mean)))\n",
    "fgs = mod.FactorizedCrossSpectrum(sed=fgs_sed, cl=fgs_cls)\n",
    "\n",
    "## Total ##\n",
    "cl_mod = mod.Sum(cmb, fgs, noise)\n",
    "\n",
    "\n",
    "#### STARTING POINT TOF THE OPTMIZATION ####\n",
    "\n",
    "def start(emp_cov, dimension, bins):\n",
    "    n_bins = len(bins) - 1\n",
    "    bins_max = bins[1:]\n",
    "    bins_min = bins[:-1]\n",
    "    emp_tot = np.einsum('b,ijb->ij', weights / n_bins, emp_cov)\n",
    "    _, eigvects = np.linalg.eigh(emp_tot)\n",
    "    noise = np.diag(emp_tot)\n",
    "    A = eigvects[::-1,::-1]\n",
    "    p_l = np.einsum('ba,bcl,cd->adl',A,emp_cov,A)\n",
    "    return noise, A[:,:dimension], p_l[:dimension,:dimension,:]\n",
    "\n",
    "noise, A, pl = start(emp_cov_binned,3,bins)\n",
    "\n",
    "## Start dictionary ##\n",
    "# dict_start = {'kwseq': [{'cl_kwargs': {'cls': pl[0,0,:]}}, \n",
    "#                         {'cl_kwargs': {'cls': pl[1,1,:]}}, \n",
    "#                         {'nwhite': noise}]}\n",
    "\n",
    "# dict_start = {'kwseq': [{'cl_kwargs': {'cls': pl[2,2,:]}}, \n",
    "                        \n",
    "#                         #{'cl_kwargs': {'kwseq': [{'cls': pl[1,1,:]},\n",
    "#                         #                         {'cls': pl[0,0,:]},\n",
    "#                         #                         {'cls': pl[0,1,:]}]}},\n",
    "#                         {'nwhite': noise}]}\n",
    "\n",
    "dict_start={'kwseq': [{'cl_kwargs':{'amp':np.random.uniform(0,2)}},\n",
    "                      {'sed_kwargs':{'beta':np.random.uniform(1.5,4.5)}},\n",
    "                      {'nwhite': noise}]}\n",
    "\n",
    "mat_start = cl_mod.eval(**dict_start)\n",
    "\n",
    "#### OPTIMIZATION ####\n",
    "\n",
    "cl_mod.prepare_for_arrays(dict_start)\n",
    "theta_start = cl_mod.kwargs2array(dict_start)\n",
    "\n",
    "min_bounds_dict ={'kwseq': [{'cl_kwargs':{'amp':-1e-25}},\n",
    "                            {'sed_kwargs':{'beta':0.}},\n",
    "                            {'nwhite': -1e-25*np.ones(len(freqs))}]}\n",
    "\n",
    "min_bounds_array = cl_mod.kwargs2array(min_bounds_dict)\n",
    "bounds = opt.Bounds(lb=min_bounds_array,ub=np.inf * np.ones(len(theta_start)),keep_feasible=True)\n",
    "\n",
    "param_optimised_deriv, res = opti.optimiser_test(emp_cov=emp_cov_binned, model=cl_mod, \n",
    "                                                 param_start=dict_start, bins=bins, fig=fig, deriv=True, delta=100,\n",
    "                                                 kwargs_opt = {'bounds':bounds,'method':'TNC', \n",
    "                                                              'options':{'ftol': 1e-15, 'gtol': 1e-15, 'xtol':1e-15,\n",
    "                                                                         'eps': 1e-15, 'maxfun': 10000000, 'maxiter': 1000000,\n",
    "                                                                        'eta':0.1, 'disp': True}})\n"
   ]
  },
  {
   "cell_type": "code",
   "execution_count": 13,
   "metadata": {},
   "outputs": [
    {
     "name": "stdout",
     "output_type": "stream",
     "text": [
      "End kl : 506659.85726995923\n",
      "Success : True\n",
      "Message : Converged (|x_n-x_(n-1)| ~= 0)\n",
      "Number iterations : 68\n",
      "number call fun : 648\n"
     ]
    }
   ],
   "source": [
    "print(\"End kl :\", res.fun) \n",
    "print(\"Success :\", res.success) \n",
    "print(\"Message :\", res.message) \n",
    "print(\"Number iterations :\", res.nit) \n",
    "print(\"number call fun :\", res.nfev)"
   ]
  },
  {
   "cell_type": "code",
   "execution_count": 14,
   "metadata": {},
   "outputs": [
    {
     "name": "stdout",
     "output_type": "stream",
     "text": [
      "{'kwseq': [{'cl_kwargs': {'amp': array(0.97772782)}}, {'sed_kwargs': {'beta': array(3.00049777)}}, {'nwhite': array([0.00435398, 0.0044632 , 0.00413602, 0.0022455 , 0.        ,\n",
      "       0.00225082, 0.        ])}]}\n"
     ]
    },
    {
     "data": {
      "image/png": "[encoded data removed]",
      "text/plain": [
       "<Figure size 432x288 with 1 Axes>"
      ]
     },
     "metadata": {
      "needs_background": "light"
     },
     "output_type": "display_data"
    }
   ],
   "source": [
    "#### PLOT OF BEST-FIT ####\n",
    "print(param_optimised_deriv)\n",
    "cov_opti_deriv = cl_mod.eval(**param_optimised_deriv)\n",
    "i=-1 #freq to plot\n",
    "plt.figure()\n",
    "plt.plot(ell,emp_cov[i,i,:],alpha = .3, c = 'k', label = 'Empirical covmat')\n",
    "plt.scatter(ell_mean,mat_start[i,i,:],lw=2, c = 'r', label = 'Start covmat', marker = '+')\n",
    "plt.scatter(ell_mean,np.abs(cov_opti_deriv[i,i,:]),lw=2, c = 'g', label = 'Fitted covmat deriv', marker = '+')\n",
    "plt.yscale('log')\n",
    "\n",
    "plt.xlabel('$\\ell$', fontsize=16)\n",
    "plt.xlim(2,lmax)\n",
    "plt.ylabel('$D_\\ell$', fontsize =16)\n",
    "# plt.yscale('log')\n",
    "plt.legend()\n",
    "plt.show()"
   ]
  },
  {
   "cell_type": "code",
   "execution_count": 11,
   "metadata": {},
   "outputs": [
    {
     "name": "stdout",
     "output_type": "stream",
     "text": [
      "(7, 1180416)\n"
     ]
    }
   ],
   "source": [
    "#### WIENER FILETERING ####\n",
    "\n",
    "lst = cl_mod.eval_terms(**param_optimised_deriv)\n",
    "cpt = 0\n",
    "fr = 4\n",
    "inv_R = (np.linalg.inv(cov_opti_deriv.T)).T\n",
    "w = np.einsum('abl,bcl->acl',lst[cpt],inv_R)\n",
    "w_full = np.zeros((N,N,lmax+1))\n",
    "bins_max = bins[1:]\n",
    "bins_min = bins[:-1]\n",
    "for i in range(len(bins)-1):\n",
    "    w_full[...,bins_min[i]:bins_max[i]] = np.tile(w[...,i,np.newaxis],bins_max[i]-bins_min[i])\n",
    "alm_filter  = alms.copy()\n",
    "print(alms.shape)\n",
    "for l in range(0,lmax-1) : \n",
    "    ind_list = []\n",
    "    for m in range(0,l+1):\n",
    "        ind_list.append(hp.Alm.getidx(lmax,l,m)) \n",
    "    alm_filter[:,ind_list] = np.dot(w_full[:,:,l],alms[:,ind_list])\n",
    "    "
   ]
  },
  {
   "cell_type": "code",
   "execution_count": 12,
   "metadata": {},
   "outputs": [
    {
     "data": {
      "application/vnd.jupyter.widget-view+json": {
       "model_id": "ab0198a8c465457b90bef9a8f14b9377",
       "version_major": 2,
       "version_minor": 0
      },
      "text/plain": [
       "Canvas(toolbar=Toolbar(toolitems=[('Home', 'Reset original view', 'home', 'home'), ('Back', 'Back to previous …"
      ]
     },
     "metadata": {},
     "output_type": "display_data"
    }
   ],
   "source": [
    "#### WIENER FILETERED MAPS ####\n",
    "\n",
    "maps_resulting = []\n",
    "for alm in alm_filter:\n",
    "    maps_resulting.append(hp.alm2map(alm, nside=nside, verbose = False))\n",
    "    \n",
    "hp.mollview(maps_resulting[fr], min=-300,max=300, title = '{:d}GHz Filtered for CMB'.format(int(freqs[fr])))\n"
   ]
  },
  {
   "cell_type": "code",
   "execution_count": 13,
   "metadata": {},
   "outputs": [
    {
     "data": {
      "application/vnd.jupyter.widget-view+json": {
       "model_id": "a67f5089e629431f8ac584d4e89adcff",
       "version_major": 2,
       "version_minor": 0
      },
      "text/plain": [
       "Canvas(toolbar=Toolbar(toolitems=[('Home', 'Reset original view', 'home', 'home'), ('Back', 'Back to previous …"
      ]
     },
     "metadata": {},
     "output_type": "display_data"
    }
   ],
   "source": [
    "# fgs_sed = fgf.ThermalSZ(nu=freqs, nu_0=150.)\n",
    "# fgs_power = fgp.tSZ_150_bat()\n",
    "# fgs_power.set_defaults(ell=np.linspace(0,lmax,lmax+1).astype('int'), ell_0=3000, amp = 4.66)\n",
    "# fgs = fgc.FactorizedCrossSpectrum(sed=fgs_sed,cl=fgs_power)\n",
    "fgs_dict = {'sed_kwargs': {'kwseq': [{'nu': freqs, 'nu_0': 150.}, \n",
    "                                     {'nu': freqs, 'nu_0': 150., 'temp': 9.7, 'beta': 2.08}]}, \n",
    "            'cl_kwargs': {'kwseq': [{'ell': np.linspace(0,lmax,lmax+1), 'ell_0': 3000, 'amp': 4.66}, \n",
    "                                    {'ell': np.linspace(0,lmax,lmax+1), 'alpha': 2.-1.20, 'ell_0': 3000, 'amp': 6.1}, \n",
    "                                    {'ell': np.linspace(0,lmax,lmax+1), 'ell_0': 3000, 'amp': -0.09*np.sqrt(6.1*4.66)}]}}\n",
    "fgs = fgc.SZxCIB()\n",
    "fgs.set_defaults(**fgs_dict)\n",
    "cl_init = fgs.eval()\n",
    "\n",
    "plt.figure()\n",
    "ell_test = np.linspace(0,lmax,lmax+1)\n",
    "# plt.plot(ell,ell**2*emp_cov[1,1,:],alpha = .6, c = 'k', label = 'Empirical covmat')\n",
    "# plt.scatter(ell_mean,ell_mean**2*cov_opti_deriv[1,1,:],lw=2, c = 'r', label = 'Fitted covmat')\n",
    "plt.plot(ell_test,cl_init[fr,fr,:],alpha = .6,lw=2, c = 'red', label = 'Init spectra')\n",
    "plt.scatter(ell_mean,ell_mean*(ell_mean+1)/2/np.pi*lst[1][fr,fr,:],alpha = 1.,lw=2, c = 'orange', label = 'Fitted spectra', marker='+')\n",
    "plt.xlabel('$\\ell$', fontsize=16)\n",
    "plt.xlim(2,lmax-10)\n",
    "# plt.ylim(0,5)\n",
    "plt.ylabel('$D_\\ell$', fontsize =16)\n",
    "plt.title('{:d}x{:d}GHz'.format(int(freqs[fr]),int(freqs[fr])), fontsize = 20)\n",
    "# plt.yscale('log')\n",
    "plt.legend()\n",
    "# plt.savefig('/Users/benjamin_brng/Desktop/cl_{:d}GHz_fgs.png'.format(int(freqs[fr])))\n",
    "#\n",
    "plt.show()"
   ]
  },
  {
   "cell_type": "code",
   "execution_count": 14,
   "metadata": {},
   "outputs": [
    {
     "name": "stderr",
     "output_type": "stream",
     "text": [
      "/Library/Frameworks/Python.framework/Versions/3.8/lib/python3.8/site-packages/healpy/sphtfunc.py:395: FutureChangeWarning: The order of the input cl's will change in a future release.\n",
      "Use new=True keyword to start using the new order.\n",
      "See documentation of healpy.synalm.\n",
      "  warnings.warn(\n"
     ]
    },
    {
     "name": "stdout",
     "output_type": "stream",
     "text": [
      "Sigma is 0.000000 arcmin (0.000000 rad) \n",
      "-> fwhm is 0.000000 arcmin\n"
     ]
    },
    {
     "data": {
      "application/vnd.jupyter.widget-view+json": {
       "model_id": "679fe0a9fc4b4d408d593bcd49de7c5d",
       "version_major": 2,
       "version_minor": 0
      },
      "text/plain": [
       "Canvas(toolbar=Toolbar(toolitems=[('Home', 'Reset original view', 'home', 'home'), ('Back', 'Back to previous …"
      ]
     },
     "metadata": {},
     "output_type": "display_data"
    }
   ],
   "source": [
    "cmb_cls = mod.CMB(ell=np.linspace(0,lmax,lmax+1))\n",
    "cmb_sed = mod.FreeSED(nu=freqs, sed=np.ones(N))\n",
    "cmb = mod.FactorizedCrossSpectrum(sed=cmb_sed, cl=cmb_cls)\n",
    "cl_init = cmb.eval()\n",
    "cl_plot = hp.anafast(hp.synfast(cl_init[fr,fr,:], nside = 512))\n",
    "\n",
    "plt.figure()\n",
    "ell_test = np.linspace(0,lmax,lmax+1)\n",
    "# plt.plot(ell,ell**2*emp_cov[1,1,:],alpha = .6, c = 'k', label = 'Empirical covmat')\n",
    "# plt.scatter(ell_mean,ell_mean**2*cov_opti_deriv[1,1,:],lw=2, c = 'r', label = 'Fitted covmat')\n",
    "plt.plot(ell_test,ell_test**2*cl_plot,alpha =1,lw=2, c = 'red', label = 'Init spectra')\n",
    "plt.plot(ell_mean,ell_mean**2*lst[0][fr,fr,:],alpha = 1.,lw=2, c = 'orange', label = 'Fitted spectra', marker = '+', \n",
    "         ls = None)\n",
    "\n",
    "plt.xlabel('$\\ell$', fontsize=16)\n",
    "plt.xlim(2,lmax-10)\n",
    "# plt.ylim(1e-5,40000)\n",
    "plt.ylabel('$D_\\ell$', fontsize =16)\n",
    "plt.title('{:d}x{:d}GHz'.format(int(freqs[fr]),int(freqs[fr])), fontsize = 20)\n",
    "# plt.yscale('log')\n",
    "plt.legend()\n",
    "# plt.savefig('/Users/benjamin_brng/Desktop/cl_{:d}GHz_cmb.png'.format(int(freqs[fr])))\n",
    "plt.show()"
   ]
  },
  {
   "cell_type": "code",
   "execution_count": 15,
   "metadata": {},
   "outputs": [
    {
     "name": "stdout",
     "output_type": "stream",
     "text": [
      "[0.00421788 0.00433423 0.00398517 0.00189077 0.00125082 0.00191986\n",
      " 0.00581776]\n",
      "[0.00417303 0.00428718 0.00394205 0.00187217 0.0012357  0.00191369\n",
      " 0.00325851]\n"
     ]
    },
    {
     "data": {
      "application/vnd.jupyter.widget-view+json": {
       "model_id": "43a7b5a5c2f3494f825fb747cddfa231",
       "version_major": 2,
       "version_minor": 0
      },
      "text/plain": [
       "Canvas(toolbar=Toolbar(toolitems=[('Home', 'Reset original view', 'home', 'home'), ('Back', 'Back to previous …"
      ]
     },
     "metadata": {},
     "output_type": "display_data"
    }
   ],
   "source": [
    "nwhite = np.array([145.,149.,137.,65.,43.,66.,200.])*np.pi/180./60./10.\n",
    "noise = mod.WhiteNoise(ell=np.linspace(0,lmax,lmax+1), nu=freqs, nwhite=nwhite)\n",
    "cl_init = noise.eval()\n",
    "\n",
    "print(nwhite)\n",
    "print(param_optimised_deriv['kwseq'][-1]['nwhite'])\n",
    "\n",
    "plt.figure()\n",
    "ell_test = np.linspace(0,lmax,lmax+1)\n",
    "# plt.plot(ell,ell**2*emp_cov[1,1,:],alpha = .6, c = 'k', label = 'Empirical covmat')\n",
    "# plt.scatter(ell_mean,ell_mean**2*cov_opti_deriv[1,1,:],lw=2, c = 'r', label = 'Fitted covmat')\n",
    "plt.plot(ell_test,ell_test**2*cl_init[fr,fr,:],alpha = .6,lw=2, c = 'red', label = 'Init spectra')\n",
    "plt.scatter(ell_mean,ell_mean**2*lst[2][fr,fr,:],alpha = 1.,lw=2, c = 'orange', label = 'Fitted spectra', marker='+')\n",
    "plt.xlabel('$\\ell$', fontsize=16)\n",
    "plt.xlim(2,lmax-10)\n",
    "# plt.ylim(1e-5,40000)\n",
    "plt.ylabel('$D_\\ell$', fontsize =16)\n",
    "plt.title('{:d}x{:d}GHz'.format(int(freqs[fr]),int(freqs[fr])), fontsize = 20)\n",
    "# plt.yscale('log')\n",
    "plt.legend()\n",
    "# plt.savefig('/Users/benjamin_brng/Desktop/cl_{:d}GHz_noise.png'.format(int(freqs[fr])))\n",
    "plt.show()"
   ]
  },
  {
   "cell_type": "code",
   "execution_count": null,
   "metadata": {},
   "outputs": [],
   "source": []
  },
  {
   "cell_type": "code",
   "execution_count": null,
   "metadata": {},
   "outputs": [],
   "source": []
  }
 ],
 "metadata": {
  "kernelspec": {
   "display_name": "Python 3",
   "language": "python",
   "name": "python3"
  },
  "language_info": {
   "codemirror_mode": {
    "name": "ipython",
    "version": 3
   },
   "file_extension": ".py",
   "mimetype": "text/x-python",
   "name": "python",
   "nbconvert_exporter": "python",
   "pygments_lexer": "ipython3",
   "version": "3.8.3"
  }
 },
 "nbformat": 4,
 "nbformat_minor": 4
}
